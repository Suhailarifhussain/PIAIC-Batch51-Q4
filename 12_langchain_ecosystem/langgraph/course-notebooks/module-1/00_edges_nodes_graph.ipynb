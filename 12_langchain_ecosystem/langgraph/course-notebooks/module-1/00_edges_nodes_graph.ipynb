{
  "nbformat": 4,
  "nbformat_minor": 0,
  "metadata": {
    "colab": {
      "provenance": [],
      "authorship_tag": "ABX9TyO5FV0mpeTLKVWyp3vdtiHE",
      "include_colab_link": true
    },
    "kernelspec": {
      "name": "python3",
      "display_name": "Python 3"
    },
    "language_info": {
      "name": "python"
    }
  },
  "cells": [
    {
      "cell_type": "markdown",
      "metadata": {
        "id": "view-in-github",
        "colab_type": "text"
      },
      "source": [
        "<a href=\"https://colab.research.google.com/github/Suhailarifhussain/PIAIC-Batch51-Q4/blob/https%2Fgithub.com%2Fpanaversity%2Flearn-applied-generative-ai-fundamentals/12_langchain_ecosystem/langgraph/course-notebooks/module-1/00_edges_nodes_graph.ipynb\" target=\"_parent\"><img src=\"https://colab.research.google.com/assets/colab-badge.svg\" alt=\"Open In Colab\"/></a>"
      ]
    },
    {
      "cell_type": "markdown",
      "source": [],
      "metadata": {
        "id": "g6AW1S4iNL7q"
      }
    },
    {
      "cell_type": "markdown",
      "source": [
        "1-.env.example\n",
        "\n",
        "GOOGLE_API_KEY\n",
        "LANGCHAIN_API_KEY=lsv2_pt_add_langsmith_api_key_here\n",
        "LANGCHAIN_TRACING_V2=\"true\"\n",
        "LANGCHAIN_PROJECT=\"langchain-academy\"\n",
        "LANGSMITH_API_KEY=lsv2_pt_add_langsmith_api_key_here"
      ],
      "metadata": {
        "id": "PNZGlRq3tbay"
      }
    },
    {
      "cell_type": "markdown",
      "source": [],
      "metadata": {
        "id": "rzpN5w1wuDl3"
      }
    }
  ]
}