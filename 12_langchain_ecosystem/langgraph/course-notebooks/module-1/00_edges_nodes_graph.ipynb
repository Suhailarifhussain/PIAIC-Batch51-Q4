{
  "nbformat": 4,
  "nbformat_minor": 0,
  "metadata": {
    "colab": {
      "provenance": [],
      "authorship_tag": "ABX9TyMmDAvQOwWqcYH06RjciASE",
      "include_colab_link": true
    },
    "kernelspec": {
      "name": "python3",
      "display_name": "Python 3"
    },
    "language_info": {
      "name": "python"
    }
  },
  "cells": [
    {
      "cell_type": "markdown",
      "metadata": {
        "id": "view-in-github",
        "colab_type": "text"
      },
      "source": [
        "<a href=\"https://colab.research.google.com/github/Suhailarifhussain/PIAIC-Batch51-Q4/blob/https%2Fgithub.com%2Fpanaversity%2Flearn-applied-generative-ai-fundamentals/12_langchain_ecosystem/langgraph/course-notebooks/module-1/00_edges_nodes_graph.ipynb\" target=\"_parent\"><img src=\"https://colab.research.google.com/assets/colab-badge.svg\" alt=\"Open In Colab\"/></a>"
      ]
    },
    {
      "cell_type": "code",
      "execution_count": null,
      "metadata": {
        "id": "fT5h9vMkEfL5"
      },
      "outputs": [],
      "source": []
    }
  ]
}